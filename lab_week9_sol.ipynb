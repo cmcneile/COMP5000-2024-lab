{
 "cells": [
  {
   "cell_type": "markdown",
   "id": "5c2f4c6b",
   "metadata": {},
   "source": [
    "# Computer Lab Exercises week 9  SOLUTIONS"
   ]
  },
  {
   "cell_type": "markdown",
   "id": "0b9ef27a",
   "metadata": {},
   "source": [
    "* These lab exercises are designed to introduce the basic syntax of SQL queries and the basic ideas of classes.\n",
    "* These exercises are **not** part of the assessment of the Module.\n",
    "* I will post the solutions roughly 1 week after this file has been uploaded to the DLE.\n",
    "* Please note that pasting python from pdf can sometimes cause problems. For example quotation marks can sometimes be converted incorrectly, so then running python will cause errors.\n",
    "\n",
    "* See https://sites.google.com/view/pythonforstemstudents/home for a collection\n",
    "of links to information on python.\n"
   ]
  },
  {
   "cell_type": "markdown",
   "id": "9256d16a",
   "metadata": {},
   "source": [
    "## Question 1, SQL queries\n",
    "\n",
    "This exercise is using SQL to extract information\n",
    "from the sakila database (**sakila.db**). \n",
    "This database is available on the DLE. The cell below is an example of running a SQL command on the database\n",
    "There is an overview of the sakila database at\n",
    "https://dev.mysql.com/doc/sakila/en/\n",
    "\n",
    "Please construct SQL queries to extract:\n",
    "\n",
    "\n",
    "* The titles of the films.\n",
    "\n",
    "* The distinct ratings (eg. PG) of the films. To produce the output:\n",
    "<pre>\n",
    "PG\n",
    "G\n",
    "NC-17\n",
    "PG-13\n",
    "R\n",
    "</pre>\n",
    "\n",
    "* Find the films with PG rating.\n",
    "\n",
    "* Count the number of films with different ratings. You will need to use the \"group by.\" The output should look like:\n",
    "<pre>\n",
    "G|178\n",
    "NC-17|210\n",
    "PG|194\n",
    "PG-13|223\n",
    "R|195\n",
    "</pre>\n",
    "\n",
    "* Use a SQL query using join to extracte the first_name, last_name, and postal_code from the customer and address table:\n",
    "<pre>\n",
    "('MARY', 'SMITH', '35200')\n",
    "('PATRICIA', 'JOHNSON', '17886')\n",
    "('LINDA', 'WILLIAMS', '83579')\n",
    "('BARBARA', 'JONES', '53561')\n",
    "('ELIZABETH', 'BROWN', '42399')\n",
    "('JENNIFER', 'DAVIS', '18743')\n",
    "('MARIA', 'MILLER', '93896')\n",
    "('SUSAN', 'WILSON', '77948')\n",
    "('MARGARET', 'MOORE', '45844')\n",
    "('DOROTHY', 'TAYLOR', '53628')\n",
    "</pre>\n",
    "\n",
    "*   Use a SQL query using join to extract the name of the file and the film category. Partial output looks like:\n",
    "<pre>\n",
    "YENTL IDAHO|Horror\n",
    "YOUNG LANGUAGE|Documentary\n",
    "YOUTH KICK|Music\n",
    "ZHIVAGO CORE|Horror\n",
    "ZOOLANDER FICTION|Children\n",
    "</pre>"
   ]
  },
  {
   "cell_type": "code",
   "execution_count": 1,
   "id": "dc03164f",
   "metadata": {},
   "outputs": [
    {
     "name": "stdout",
     "output_type": "stream",
     "text": [
      "Example Result from running  select * from actor\n",
      "(1, 'PENELOPE', 'GUINESS', '2019-04-11 18:11:48')\n",
      "(2, 'NICK', 'WAHLBERG', '2019-04-11 18:11:48')\n",
      "(3, 'ED', 'CHASE', '2019-04-11 18:11:48')\n",
      "(4, 'JENNIFER', 'DAVIS', '2019-04-11 18:11:48')\n",
      "(5, 'JOHNNY', 'LOLLOBRIGIDA', '2019-04-11 18:11:48')\n",
      "(6, 'BETTE', 'NICHOLSON', '2019-04-11 18:11:48')\n",
      "(7, 'GRACE', 'MOSTEL', '2019-04-11 18:11:48')\n",
      "(8, 'MATTHEW', 'JOHANSSON', '2019-04-11 18:11:48')\n",
      "(9, 'JOE', 'SWANK', '2019-04-11 18:11:48')\n",
      "(10, 'CHRISTIAN', 'GABLE', '2019-04-11 18:11:48')\n"
     ]
    }
   ],
   "source": [
    "# Example code\n",
    "import sqlite3\n",
    "\n",
    "def run_sql(database_file, tag, sql_command) :\n",
    "  connection = sqlite3.connect(database_file)\n",
    "  cursor = connection.cursor()\n",
    "  cursor.execute(sql_command + \" limit 10\") \n",
    "  result = cursor.fetchall() \n",
    "  print(tag, \"Result from running \", sql_command)\n",
    "  for r in result:\n",
    "      print(r)\n",
    "\n",
    "d_file = \"sakila.db\"\n",
    "\n",
    "run_sql(d_file, \"Example\" , \"select * from actor\") \n"
   ]
  },
  {
   "cell_type": "code",
   "execution_count": 2,
   "id": "1e6ed9ba",
   "metadata": {},
   "outputs": [
    {
     "name": "stdout",
     "output_type": "stream",
     "text": [
      "Q1a Result from running  select title from film\n",
      "('ACADEMY DINOSAUR',)\n",
      "('ACE GOLDFINGER',)\n",
      "('ADAPTATION HOLES',)\n",
      "('AFFAIR PREJUDICE',)\n",
      "('AFRICAN EGG',)\n",
      "('AGENT TRUMAN',)\n",
      "('AIRPLANE SIERRA',)\n",
      "('AIRPORT POLLOCK',)\n",
      "('ALABAMA DEVIL',)\n",
      "('ALADDIN CALENDAR',)\n",
      "Q1b Result from running  select distinct rating from film\n",
      "('PG',)\n",
      "('G',)\n",
      "('NC-17',)\n",
      "('PG-13',)\n",
      "('R',)\n",
      "Q1c Result from running  select title from film where rating='PG'\n",
      "('ACADEMY DINOSAUR',)\n",
      "('AGENT TRUMAN',)\n",
      "('ALASKA PHANTOM',)\n",
      "('ALI FOREVER',)\n",
      "('AMADEUS HOLY',)\n",
      "('ARIZONA BANG',)\n",
      "('ARSENIC INDEPENDENCE',)\n",
      "('BEDAZZLED MARRIED',)\n",
      "('BEHAVIOR RUNAWAY',)\n",
      "('BILL OTHERS',)\n",
      "Q1d Result from running  select rating,count(*) from film group by rating\n",
      "('G', 178)\n",
      "('NC-17', 210)\n",
      "('PG', 194)\n",
      "('PG-13', 223)\n",
      "('R', 195)\n",
      "Q1e Result from running  select first_name, last_name, postal_code from customer inner join address on customer.address_id = address.address_id\n",
      "('MARY', 'SMITH', '35200')\n",
      "('PATRICIA', 'JOHNSON', '17886')\n",
      "('LINDA', 'WILLIAMS', '83579')\n",
      "('BARBARA', 'JONES', '53561')\n",
      "('ELIZABETH', 'BROWN', '42399')\n",
      "('JENNIFER', 'DAVIS', '18743')\n",
      "('MARIA', 'MILLER', '93896')\n",
      "('SUSAN', 'WILSON', '77948')\n",
      "('MARGARET', 'MOORE', '45844')\n",
      "('DOROTHY', 'TAYLOR', '53628')\n",
      "Q1f Result from running   select film.title, category.name from \n",
      "     category inner JOIN  film_category on category.category_id \n",
      "     = film_category.category_id inner join film \n",
      "     on film_category.film_id = film.film_id  \n",
      "('ACADEMY DINOSAUR', 'Documentary')\n",
      "('ACE GOLDFINGER', 'Horror')\n",
      "('ADAPTATION HOLES', 'Documentary')\n",
      "('AFFAIR PREJUDICE', 'Horror')\n",
      "('AFRICAN EGG', 'Family')\n",
      "('AGENT TRUMAN', 'Foreign')\n",
      "('AIRPLANE SIERRA', 'Comedy')\n",
      "('AIRPORT POLLOCK', 'Horror')\n",
      "('ALABAMA DEVIL', 'Horror')\n",
      "('ALADDIN CALENDAR', 'Sports')\n",
      "Q1g Result from running   select film.title, category.name  from category \n",
      "   inner JOIN  film_category on (category.category_id = \n",
      "   film_category.category_id) and ( category.name = 'Horror' ) \n",
      "   inner join film on film_category.film_id = film.film_id  \n",
      "('ACE GOLDFINGER', 'Horror')\n",
      "('AFFAIR PREJUDICE', 'Horror')\n",
      "('AIRPORT POLLOCK', 'Horror')\n",
      "('ALABAMA DEVIL', 'Horror')\n",
      "('ALI FOREVER', 'Horror')\n",
      "('ANALYZE HOOSIERS', 'Horror')\n",
      "('ANYTHING SAVANNAH', 'Horror')\n",
      "('ARABIA DOGMA', 'Horror')\n",
      "('ARACHNOPHOBIA ROLLERCOASTER', 'Horror')\n",
      "('BEHAVIOR RUNAWAY', 'Horror')\n"
     ]
    }
   ],
   "source": [
    "# Put your solution here\n",
    "\n",
    "\n",
    "import sqlite3\n",
    "\n",
    "def run_sql(database_file, tag, sql_command) :\n",
    "  connection = sqlite3.connect(database_file)\n",
    "  cursor = connection.cursor()\n",
    "  cursor.execute(sql_command + \" limit 10\") \n",
    "  result = cursor.fetchall() \n",
    "  print(tag, \"Result from running \", sql_command)\n",
    "  for r in result:\n",
    "      print(r)\n",
    "\n",
    "d_file = \"sakila.db\"\n",
    "\n",
    "run_sql(d_file, \"Q1a\" , \"select title from film\") \n",
    "\n",
    "run_sql(d_file, \"Q1b\" , \"select distinct rating from film\") \n",
    "\n",
    "run_sql(d_file,\"Q1c\",r\"select title from film where rating='PG'\") \n",
    "\n",
    "run_sql(d_file,\"Q1d\",\"select rating,count(*) from film group by rating\") \n",
    "\n",
    "run_sql(d_file, \"Q1e\" , \"select first_name, last_name, postal_code from customer inner join address on customer.address_id = address.address_id\")\n",
    "\n",
    "run_sql(d_file, \"Q1f\" , \"\"\" select film.title, category.name from \n",
    "     category inner JOIN  film_category on category.category_id \n",
    "     = film_category.category_id inner join film \n",
    "     on film_category.film_id = film.film_id  \"\"\")\n",
    "\n",
    "\n",
    "#  I didn't ask this question, but it shows how to find the films\n",
    "#  in the horror category\n",
    "#\n",
    "run_sql(d_file, \"Q1g\" , \"\"\" select film.title, category.name  from category \n",
    "   inner JOIN  film_category on (category.category_id = \n",
    "   film_category.category_id) and ( category.name = 'Horror' ) \n",
    "   inner join film on film_category.film_id = film.film_id  \"\"\" )\n",
    "\n",
    "\n"
   ]
  },
  {
   "cell_type": "markdown",
   "id": "4f971947",
   "metadata": {},
   "source": [
    "## Question 2, SQL schema\n",
    "\n",
    "The cell below creates a SQL table defined by a schema. The aim of this question is to test the actual constraints from the SQL schema.\n",
    "\n",
    "* The **week** column is the primary key in the orders table. Does sqlite 3 allow nonunique values is the week column?\n",
    "* Can you add nonintegers to the **orders**  row ?\n",
    "* Can the FarmID column contain a **None** ?\n",
    "\n",
    "Once you have tried the above questions I suggest you read https://www.sqlite.org/datatype3.html"
   ]
  },
  {
   "cell_type": "code",
   "execution_count": 4,
   "id": "325d25e9",
   "metadata": {},
   "outputs": [
    {
     "name": "stdout",
     "output_type": "stream",
     "text": [
      "(1, 20, 30, '5/11/2022')\n",
      "(2, None, 30, '5/11/2022')\n",
      "(3, 22, 30, '6/11/2022')\n",
      "(4, 22, 30, '8/11/2022')\n"
     ]
    }
   ],
   "source": [
    "import sqlite3\n",
    "connection = sqlite3.connect(\"supermarket.db\")\n",
    "cursor = connection.cursor()\n",
    "# first delete the table\n",
    "cursor.execute(\"DROP TABLE IF EXISTS orders\")\n",
    "connection.commit()\n",
    "\n",
    "# create the table\n",
    "sql_command = \"\"\"\n",
    "CREATE TABLE IF NOT EXISTS orders   ( \n",
    "week INTEGER PRIMARY KEY, \n",
    "orders INTEGER, \n",
    "FarmID INTEGER NOT NULL, \n",
    "date DATE);\"\"\"\n",
    "\n",
    "cursor.execute(sql_command)\n",
    "connection.commit()\n",
    "#\n",
    "#  now add some rows\n",
    "#\n",
    "sql = ''' INSERT INTO orders(week,orders, FarmID, date)\n",
    "              VALUES(?,?,?,?) '''\n",
    "\n",
    "cursor.execute(sql, (1,20,30,\"5/11/2022\") )\n",
    "cursor.execute(sql, (2,None,30,\"5/11/2022\") )\n",
    "cursor.execute(sql, (3,22,30,\"6/11/2022\") )\n",
    "cursor.execute(sql, (4,22,30,\"8/11/2022\") )\n",
    "\n",
    "#  write out the table\n",
    "cursor.execute(\"SELECT * FROM orders \") \n",
    "result = cursor.fetchall() \n",
    "for r in result:\n",
    "  print(r) \n",
    "connection.close()"
   ]
  },
  {
   "cell_type": "code",
   "execution_count": 5,
   "id": "8371903c",
   "metadata": {},
   "outputs": [
    {
     "name": "stdout",
     "output_type": "stream",
     "text": [
      "(1, 20, 30, '5/11/2022')\n",
      "(2, None, 30, '5/11/2022')\n",
      "(3, 22.5, 'hell', '6/11/2022')\n",
      "(4, 22, 22, '8/11/2022')\n"
     ]
    }
   ],
   "source": [
    "#  put your solution here\n",
    "import sqlite3\n",
    "connection = sqlite3.connect(\"supermarket.db\")\n",
    "cursor = connection.cursor()\n",
    "# first delete the table\n",
    "cursor.execute(\"DROP TABLE IF EXISTS orders\")\n",
    "connection.commit()\n",
    "\n",
    "# create the table\n",
    "sql_command = \"\"\"\n",
    "CREATE TABLE IF NOT EXISTS orders ( \n",
    "week INTEGER PRIMARY KEY, \n",
    "orders INTEGER, \n",
    "FarmID INTEGER NOT NULL, \n",
    "date DATE);\"\"\"\n",
    "\n",
    "cursor.execute(sql_command)\n",
    "connection.commit()\n",
    "#\n",
    "#  now add some rows\n",
    "#\n",
    "sql = ''' INSERT INTO orders(week,orders, FarmID, date)\n",
    "              VALUES(?,?,?,?) '''\n",
    "\n",
    "cursor.execute(sql, (1,20,30,\"5/11/2022\") )\n",
    "cursor.execute(sql, (2,None,30,\"5/11/2022\") )\n",
    "# cursor.execute(sql, (1,None,30,\"5/11/2022\") ) # This will fail\n",
    "cursor.execute(sql, (3,22.5,\"hell\",\"6/11/2022\") )\n",
    "cursor.execute(sql, (4,22,22,\"8/11/2022\") )\n",
    "#cursor.execute(sql, (4,22,None,\"8/11/2022\") ) # This will fail\n",
    "\n",
    "#  write out the table\n",
    "cursor.execute(\"SELECT * FROM orders \") \n",
    "result = cursor.fetchall() \n",
    "for r in result:\n",
    "  print(r) \n",
    "connection.close()"
   ]
  },
  {
   "cell_type": "markdown",
   "id": "91e0be18",
   "metadata": {},
   "source": [
    "Answers\n",
    "* NO. The **week** column is the primary key in the orders table. Does sqlite 3 allow nonunique values is the week column?\n",
    "* YES. Can you add nonintegers to the **orders**  row ?\n",
    "* No. Can the FarmID column contain a **None** ?\n"
   ]
  },
  {
   "cell_type": "markdown",
   "id": "186392c5",
   "metadata": {},
   "source": [
    "##  Question 3, Classes in python\n",
    "\n",
    "Consider a cube with side L.\n",
    "\n",
    "* Volume = $L^3$\n",
    "* Surface area = 6$L^2$\n",
    "\n",
    "\n",
    "Start from the code in the cell below and modify the\n",
    "Rectangle class to create a Cube class. (You do not need to include\n",
    "any units.) The Cube class should be able to calculate the volume\n",
    "and surface area.\n"
   ]
  },
  {
   "cell_type": "code",
   "execution_count": 6,
   "id": "033baa7c",
   "metadata": {},
   "outputs": [
    {
     "name": "stdout",
     "output_type": "stream",
     "text": [
      "Area =  4500\n"
     ]
    }
   ],
   "source": [
    "class Rectangle:\n",
    "    def __init__(self, x, y):\n",
    "        self.x = x\n",
    "        self.y = y\n",
    "    def area(self):\n",
    "        return self.x * self.y\n",
    "\n",
    "rectangle = Rectangle(100, 45)\n",
    "print (\"Area = \" , rectangle.area())\n",
    "\n"
   ]
  },
  {
   "cell_type": "markdown",
   "id": "b993fc3b",
   "metadata": {},
   "source": [
    "The code calling the class shoud look like:\n",
    "<pre>\n",
    "small_cube = Cube(10)\n",
    "print (\"Volume = \" , small_cube.volume())\n",
    "print (\"Area = \" , small_cube.surface_area())\n",
    "</pre>\n",
    "Output\n",
    "<pre>\n",
    "Volume =  1000\n",
    "Area =  600\n",
    "</pre>"
   ]
  },
  {
   "cell_type": "code",
   "execution_count": null,
   "id": "9468a1fd",
   "metadata": {},
   "outputs": [],
   "source": []
  },
  {
   "cell_type": "code",
   "execution_count": 4,
   "id": "10dfdf03",
   "metadata": {},
   "outputs": [
    {
     "name": "stdout",
     "output_type": "stream",
     "text": [
      "Volume =  1000\n",
      "Area =  600\n"
     ]
    }
   ],
   "source": [
    "# Put your solution here\n",
    "\n",
    "class Cube:\n",
    "    def __init__(self, x):\n",
    "        self.x = x\n",
    "    def volume(self):\n",
    "        return self.x**3\n",
    "    def surface_area(self):\n",
    "        return 6 *self.x * self.x \n",
    "\n",
    "small_cube = Cube(10)\n",
    "print (\"Volume = \" , small_cube.volume())\n",
    "print (\"Area = \" , small_cube.surface_area())\n",
    "\n"
   ]
  },
  {
   "cell_type": "markdown",
   "id": "19c5550d",
   "metadata": {},
   "source": [
    "##  Question 4: classes in python\n",
    "\n",
    "\n",
    "This question is an example of introducing classes\n",
    "to improve a python script. The code in the cell below reads in the\n",
    "data file data-showing-sports-use-of-football-pitches.csv\n",
    "and counts the number of male football teams in\n",
    "Plymouth. The data set is from\n",
    "https://plymouth.thedata.place/dataset/football-pitches"
   ]
  },
  {
   "cell_type": "code",
   "execution_count": 33,
   "id": "d62f7c38",
   "metadata": {},
   "outputs": [
    {
     "name": "stdout",
     "output_type": "stream",
     "text": [
      "Loaded data from   data-showing-sports-use-of-football-pitches.csv\n",
      "Number of male football teams in Plymouth 138\n"
     ]
    }
   ],
   "source": [
    "import pandas as pd\n",
    "\n",
    "# The file below is available on the DLE\n",
    "fname = \"data-showing-sports-use-of-football-pitches.csv\"\n",
    "football_df = pd.read_csv(fname)\n",
    "\n",
    "print(\"Loaded data from  \" , fname)\n",
    "\n",
    "\n",
    "male_team_ = football_df['Adult male 11v11 (16-45)']\n",
    "\n",
    "\n",
    "# drop all rows with any NaN and NaT values\n",
    "male_team = male_team_.dropna()\n",
    "\n",
    "xx = len(male_team)\n",
    "\n",
    "print(\"Number of male football teams in Plymouth\" , xx)"
   ]
  },
  {
   "cell_type": "markdown",
   "id": "8a8c1adc",
   "metadata": {},
   "source": [
    "The code uses the pandas library https://pandas.pydata.org/pandas-docs/stable/user_guide/10min.html\n",
    "to read the csv file and to do the\n",
    "processing. However, you do not need to change any of the  \n",
    "pandas code to\n",
    "solve\n",
    "this exercise. You just need to rearrange the source code.\n",
    "\n",
    "To clean the script up, please put the code into a\n",
    "class called football.\n",
    "\n",
    "<pre>\n",
    "football_plymouth = football()\n",
    "football_plymouth.load(\"data-showing-sports-use-of-football-pitches.csv\")\n",
    "number_football_men  = football_plymouth.count_male_team()\n",
    "\n",
    "print(\"Number of male football teams in Plymouth\" ,number_football_men)\n",
    "</pre>\n"
   ]
  },
  {
   "cell_type": "code",
   "execution_count": 1,
   "id": "33b423a8",
   "metadata": {},
   "outputs": [
    {
     "name": "stdout",
     "output_type": "stream",
     "text": [
      "Loaded data from   data-showing-sports-use-of-football-pitches.csv\n",
      "Number of male football teams in Plymouth 138\n"
     ]
    }
   ],
   "source": [
    "# Put your solution here\n",
    "\n",
    "import pandas as pd\n",
    "\n",
    "class football:\n",
    "    def __init__(self):\n",
    "        # empty dataframe\n",
    "        self.football_df = pd.DataFrame()\n",
    "\n",
    "    def load(self,  fname):\n",
    "        self.football_df = pd.read_csv(fname)\n",
    "        print(\"Loaded data from  \" , fname)\n",
    "\n",
    "    def count_male_team(self) :\n",
    "        male_team_ = self.football_df['Adult male 11v11 (16-45)']\n",
    "        male_team = male_team_.dropna()\n",
    "        xx = len(male_team)\n",
    "        return xx\n",
    "\n",
    "\n",
    "football_plymouth = football()\n",
    "football_plymouth.load(\"data-showing-sports-use-of-football-pitches.csv\")\n",
    "number_football_men  = football_plymouth.count_male_team()\n",
    "\n",
    "print(\"Number of male football teams in Plymouth\" , number_football_men)\n"
   ]
  },
  {
   "cell_type": "code",
   "execution_count": null,
   "id": "1671f1b2",
   "metadata": {},
   "outputs": [],
   "source": []
  }
 ],
 "metadata": {
  "kernelspec": {
   "display_name": "Python 3 (ipykernel)",
   "language": "python",
   "name": "python3"
  },
  "language_info": {
   "codemirror_mode": {
    "name": "ipython",
    "version": 3
   },
   "file_extension": ".py",
   "mimetype": "text/x-python",
   "name": "python",
   "nbconvert_exporter": "python",
   "pygments_lexer": "ipython3",
   "version": "3.12.2"
  }
 },
 "nbformat": 4,
 "nbformat_minor": 5
}
