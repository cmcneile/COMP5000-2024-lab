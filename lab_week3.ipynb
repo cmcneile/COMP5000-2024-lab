{
 "cells": [
  {
   "cell_type": "markdown",
   "id": "8c5f9f59",
   "metadata": {},
   "source": [
    "# Computer Lab Exercises week 3"
   ]
  },
  {
   "cell_type": "markdown",
   "id": "b3f4f1ea",
   "metadata": {},
   "source": [
    "* These lab exercises are designed to introduce the basic ideas of functions and learn how to plot basic graphs using python\n",
    "\n",
    "* These exercises are **not** part of the assessment of the Module.\n",
    "* I will post the solutions roughly 1 week after this file has been uploaded to the DLE.\n",
    "\n",
    "* Please note that pasting python from pdf can sometimes cause problems. For example quotation marks can sometimes be converted incorrectly, so then running python will cause errors.\n",
    "\n",
    "* See https://sites.google.com/view/pythonforstemstudents/home for a collection\n",
    "of links to information on python.\n"
   ]
  },
  {
   "cell_type": "markdown",
   "id": "1651e2f2",
   "metadata": {},
   "source": [
    "## Question 1a\n",
    "* Use a string method (https://www.w3schools.com/python/python_ref_string.asp) to replace Student in the string below with the name John.\n",
    "\n",
    "So the output should be\n",
    "\n",
    "Dear Student<br>\n",
    "Dear John\n"
   ]
  },
  {
   "cell_type": "code",
   "execution_count": null,
   "id": "faf6acb9",
   "metadata": {},
   "outputs": [],
   "source": [
    "in_string = \"Dear Student\"\n",
    "print(in_string)\n",
    "\n",
    "#  modify the line below \n",
    "out_string = in_string\n",
    "print(out_string)"
   ]
  },
  {
   "cell_type": "markdown",
   "id": "804d535c",
   "metadata": {},
   "source": [
    "##  Question 2a\n",
    "The code in the cell below counts the number of negative numbers in a list. Write a python function **count_negative** that can be called like:\n",
    "\n",
    "```python\n",
    "xxx = [2, 3, -1, 5, -10, 199] \n",
    "number_neg = count_negative(xxx)\n",
    "print(\"Number of negative numbers = \" , number_neg )\n",
    "```\n",
    "Essentially I want you to put the code below into a function and then call the function.\n",
    "\n",
    "See this short overview of functions https://www.w3schools.com/python/python_functions.asp"
   ]
  },
  {
   "cell_type": "code",
   "execution_count": null,
   "id": "2eee6c53",
   "metadata": {},
   "outputs": [],
   "source": [
    "xxx = [2, 3, -1, 5, -10, 199] \n",
    "number_neg = 0 \n",
    "for x in xxx :\n",
    "    if x < 0 :\n",
    "        number_neg += 1\n",
    "        \n",
    "print(\"Number of negative numbers = \" , number_neg )\n"
   ]
  },
  {
   "cell_type": "code",
   "execution_count": null,
   "id": "76d2878e",
   "metadata": {},
   "outputs": [],
   "source": [
    "#  Put your solution here"
   ]
  },
  {
   "cell_type": "markdown",
   "id": "001872ca",
   "metadata": {},
   "source": [
    "## Question 2b  functions\n",
    "A students mark is made from the sum of four courseworks. Each individual coursework has a mark between 0 and 25\n",
    "\n",
    "* The exercise is create a simple python function to simplify (reduce the amount of repetition) the code below\n",
    "* Some information on functions  https://www.w3schools.com/python/python_functions.asp"
   ]
  },
  {
   "cell_type": "code",
   "execution_count": null,
   "id": "b98066b4",
   "metadata": {},
   "outputs": [],
   "source": [
    "m1 = int(input(\"Input coursework 1  \"))\n",
    "if m1 < 0 or m1 > 25 :\n",
    "    print(\"Error with mark 1\")\n",
    "m2 = int(input(\"Input coursework 2  \"))\n",
    "if m2 < 0 or m2 > 25 :\n",
    "    print(\"Error with mark 2\")\n",
    "m3 = int(input(\"Input coursework 3  \"))\n",
    "if m3 < 0 or m3 > 25 :\n",
    "    print(\"Error with mark 3\")\n",
    "m4 = int(input(\"Input coursework 4  \"))\n",
    "if m4 < 0 or m4 > 25 :\n",
    "    print(\"Error with mark 4\")\n",
    "total = m1 + m2 + m3 + m4\n",
    "print(\"Your total mark = \" , total)"
   ]
  },
  {
   "cell_type": "code",
   "execution_count": null,
   "id": "a4111421",
   "metadata": {},
   "outputs": [],
   "source": [
    "# put your solution here"
   ]
  },
  {
   "cell_type": "markdown",
   "id": "87b28ff0",
   "metadata": {},
   "source": [
    "##  Question 3) Plotting\n"
   ]
  },
  {
   "cell_type": "markdown",
   "id": "87e2b291",
   "metadata": {},
   "source": [
    "This exercise is on creating a basic plot with python\n",
    "using matplotlib https://matplotlib.org"
   ]
  },
  {
   "cell_type": "markdown",
   "id": "a987806b",
   "metadata": {},
   "source": [
    "In table there are some stock prices for Facebook Inc for\n",
    "a few dates in 2021 obtained from https://uk.investing.com/equities/facebook-inc-historical-data\n",
    "\n",
    "Date      | Stock price USD \n",
    "----------|---------------------\n",
    "11-Oct-21 |  325.65 \n",
    "8-Oct-21  | 330.05 \n",
    "7-Oct-21  | 329.22 \n",
    "6-Oct-21  | 333.64 \n",
    "5-Oct-21  |332.96\n",
    "4-Oct-21  | 326.23\n",
    "1-Oct-21  | 343.01 \n",
    "\n",
    "\n",
    "Create a plot of the Facebook stock price as a function of date. The final plot should like that:\n",
    "\n",
    "![](https://github.com/cmcneile/COMP5000-2023-lab/blob/main/facebook.png?raw=true)"
   ]
  },
  {
   "cell_type": "markdown",
   "id": "0f847878",
   "metadata": {},
   "source": [
    "The python code below may be useful and you should run it first. Then you should copy the above table into the lists."
   ]
  },
  {
   "cell_type": "code",
   "execution_count": 2,
   "id": "3e69b10b",
   "metadata": {},
   "outputs": [
    {
     "data": {
      "image/png": "[encoded data removed]",
      "text/plain": [
       "<Figure size 640x480 with 1 Axes>"
      ]
     },
     "metadata": {},
     "output_type": "display_data"
    }
   ],
   "source": [
    "# moodify the cell to create your solution\n",
    "import matplotlib.pyplot as plt\n",
    "import numpy as np\n",
    "# values of x and y axes\n",
    "x = [5, 10, 15, 20 ]\n",
    "y = [1, 4, 3, 2  ]\n",
    "\n",
    "tt = [ \"A\" , \"B\" , \"C\" , \"D\" ] \n",
    " \n",
    "plt.plot(x, y, 'bo')\n",
    "\n",
    "plt.xlabel('x')\n",
    "plt.ylabel('y')\n",
    "plt.xticks(x, tt)\n",
    "plt.show()\n"
   ]
  },
  {
   "cell_type": "markdown",
   "id": "b7baf7f2",
   "metadata": {},
   "source": [
    "## Question3 (plotting)\n",
    "\n",
    "Create a pie graph for the data below from a small survey of a groups favourite's type of film\n",
    "\n",
    "Comedy | Action | Romance | Drama  | SciFi\n",
    "-------|--------|---------|--------|--------\n",
    " 4     |  7     | 3       | 2      | 4\n",
    "\n",
    "\n",
    "\n",
    "Copy the example code from https://matplotlib.org/stable/gallery/pie_and_polar_charts/pie_features.html#sphx-glr-gallery-pie-and-polar-charts-pie-features-py  and modify it to create the pie chart"
   ]
  },
  {
   "cell_type": "code",
   "execution_count": null,
   "id": "71e147ae",
   "metadata": {},
   "outputs": [],
   "source": [
    "#  put your solution here"
   ]
  },
  {
   "cell_type": "markdown",
   "id": "915ce3ae",
   "metadata": {},
   "source": [
    "##  Advanced Question 4  (Data cleaning)"
   ]
  },
  {
   "cell_type": "markdown",
   "id": "2065fb0c",
   "metadata": {},
   "source": [
    "Plymouth County Council makes available many data sets.\n",
    "In this example I want you to use the csv file\n",
    "from https://plymouth.thedata.place/dataset/household-waste.\n",
    "This has data comparing the percentage of houshold recycling done in Plymouth compared\n",
    "to all of England. The file is also available on the DLE."
   ]
  },
  {
   "cell_type": "markdown",
   "id": "9d452310",
   "metadata": {},
   "source": [
    "Download the csv file. I want you write a python script to read the\n",
    "csv file (resources_2dadd739-84df-421f-b621-b6650ebbbf22_household-waste.csv), clean up the data, and make a plot of the year versus\n",
    "percentage recycling in Plymouth and England.  The final plot should look\n",
    "like this.\n",
    "\n",
    "\n",
    "Below is a rough plan of how to approach the writing the script.\n",
    "\n",
    "* Read the file using the example code below. \n",
    "* Use the string manipulations tools to get rid of the additional\n",
    "  words. The solution in question 1a may be useful.\n",
    "* Convert some of the final strings into integers and floats, using python functions such as **int**.\n",
    "* Use some of the code I showed in lecture 3 to create the final plot. See also https://matplotlib.org/.\n",
    "\n",
    "For a csv file of this size, you could clean it up by hand. The\n",
    "techniques you will develop here are useful for much bigger data sets.\n",
    "\n"
   ]
  },
  {
   "cell_type": "code",
   "execution_count": 2,
   "id": "2317a552",
   "metadata": {},
   "outputs": [
    {
     "name": "stdout",
     "output_type": "stream",
     "text": [
      "Reading from  resources_2dadd739-84df-421f-b621-b6650ebbbf22_household-waste.csv\n",
      "Plymouth ['Percentage of Recycling in Whole of Plymouth', '30.04%', '31.25%', '32.90%', '31.84%', '32.85%', '33.66%', '35.33%', '']\n",
      "England  ['Percentage of Recycling in Whole of England ', '49.64%', '44.92%', '41.09%', '41.69%', '41.57%', '41.49%', '41.87%', '']\n"
     ]
    }
   ],
   "source": [
    "# modify the cell to create your solution\n",
    "import csv\n",
    "import matplotlib.pyplot as plt\n",
    "\n",
    "name = \"resources_2dadd739-84df-421f-b621-b6650ebbbf22_household-waste.csv\"\n",
    "print(\"Reading from \" , name)\n",
    "\n",
    "with open(name) as csvfile:\n",
    "    readCSV = csv.reader(csvfile, delimiter=',')\n",
    "    for row in readCSV:\n",
    "      if \"England\" in row[0] :\n",
    "        england_data = row\n",
    "        print(\"England \", row)\n",
    "      elif \"Plymouth\" in row[0] :\n",
    "        print(\"Plymouth\" , row)\n",
    "        plymouth_data = row\n",
    "      else:\n",
    "         year = row\n"
   ]
  },
  {
   "cell_type": "markdown",
   "id": "2f91fb1d",
   "metadata": {},
   "source": [
    "The final plot should look like\n",
    "\n",
    "What do you conclude from the plot about recycling in Plymouth?\n",
    "\n",
    "![](https://github.com/cmcneile/COMP5000-2022-labs/blob/main/recycling.png?raw=true)"
   ]
  },
  {
   "cell_type": "code",
   "execution_count": null,
   "id": "4afb2af1",
   "metadata": {},
   "outputs": [],
   "source": []
  }
 ],
 "metadata": {
  "kernelspec": {
   "display_name": "Python 3 (ipykernel)",
   "language": "python",
   "name": "python3"
  },
  "language_info": {
   "codemirror_mode": {
    "name": "ipython",
    "version": 3
   },
   "file_extension": ".py",
   "mimetype": "text/x-python",
   "name": "python",
   "nbconvert_exporter": "python",
   "pygments_lexer": "ipython3",
   "version": "3.9.17"
  }
 },
 "nbformat": 4,
 "nbformat_minor": 5
}
