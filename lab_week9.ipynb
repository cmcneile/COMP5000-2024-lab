{
 "cells": [
  {
   "cell_type": "markdown",
   "id": "dc093e0c",
   "metadata": {},
   "source": [
    "# Computer Lab Exercises week 9 "
   ]
  },
  {
   "cell_type": "markdown",
   "id": "ffeb5ff5",
   "metadata": {},
   "source": [
    "* These lab exercises are designed to introduce the basic syntax of SQL queries and the basic ideas of classes.\n",
    "* These exercises are **not** part of the assessment of the Module.\n",
    "* I will post the solutions roughly 1 week after this file has been uploaded to the DLE.\n",
    "* See https://sites.google.com/view/pythonforstemstudents/home for a collection\n",
    "of links to information on python.\n"
   ]
  },
  {
   "cell_type": "markdown",
   "id": "66432c52",
   "metadata": {},
   "source": [
    "## Question 1, SQL queries\n",
    "\n",
    "This exercise is using SQL to extract information\n",
    "from the sakila database (**sakila.db**). \n",
    "This database is available on the DLE. The cell below is an example of running a SQL command on the database\n",
    "There is an overview of the sakila database at\n",
    "https://dev.mysql.com/doc/sakila/en/\n",
    "\n",
    "The ERD diagram of the sakila data base\n",
    "![ERD](https://www.jooq.org/img/sakila.png)\n",
    "\n",
    "Some SQL resources\n",
    "\n",
    "* Tutorial https://www.w3schools.com/sql/\n",
    "* Cheat sheet for SQL  https://www.sqltutorial.org/wp-content/uploads/2016/04/SQL-cheat-sheet.pdf\n",
    "\n",
    "Please construct SQL queries to extract:\n",
    "\n",
    "\n",
    "* The titles of the films.\n",
    "<pre>\n",
    "('ACADEMY DINOSAUR',)\n",
    "('ACE GOLDFINGER',)\n",
    "('ADAPTATION HOLES',)\n",
    "('AFFAIR PREJUDICE',)\n",
    "('AFRICAN EGG',)\n",
    "('AGENT TRUMAN',)\n",
    "('AIRPLANE SIERRA',)\n",
    "('AIRPORT POLLOCK',)\n",
    "('ALABAMA DEVIL',)\n",
    "('ALADDIN CALENDAR',)\n",
    "</pre>\n",
    "\n",
    "* The distinct ratings (eg. PG) of the films. To produce the output:\n",
    "<pre>\n",
    "('PG',)\n",
    "('G',)\n",
    "('NC-17',)\n",
    "('PG-13',)\n",
    "('R',)\n",
    "</pre>\n",
    "\n",
    "* Find the films with PG rating.\n",
    "<pre>\n",
    "('ACADEMY DINOSAUR',)\n",
    "('AGENT TRUMAN',)\n",
    "('ALASKA PHANTOM',)\n",
    "('ALI FOREVER',)\n",
    "('AMADEUS HOLY',)\n",
    "('ARIZONA BANG',)\n",
    "('ARSENIC INDEPENDENCE',)\n",
    "('BEDAZZLED MARRIED',)\n",
    "('BEHAVIOR RUNAWAY',)\n",
    "('BILL OTHERS',)\n",
    "</pre>\n",
    "\n",
    "* Count the number of films with different ratings. You will need to use the \"group by.\" The output should look like:\n",
    "<pre>\n",
    "('G', 178)\n",
    "('NC-17', 210)\n",
    "('PG', 194)\n",
    "('PG-13', 223)\n",
    "('R', 195)\n",
    "</pre>\n",
    "\n",
    "* Use a SQL query using join to extracte the first_name, last_name, and postal_code from the customer and address table:\n",
    "<pre>\n",
    "('MARY', 'SMITH', '35200')\n",
    "('PATRICIA', 'JOHNSON', '17886')\n",
    "('LINDA', 'WILLIAMS', '83579')\n",
    "('BARBARA', 'JONES', '53561')\n",
    "('ELIZABETH', 'BROWN', '42399')\n",
    "('JENNIFER', 'DAVIS', '18743')\n",
    "('MARIA', 'MILLER', '93896')\n",
    "('SUSAN', 'WILSON', '77948')\n",
    "('MARGARET', 'MOORE', '45844')\n",
    "('DOROTHY', 'TAYLOR', '53628')\n",
    "</pre>\n",
    "\n",
    "*   Use a SQL query using join to extract the name of the file and the film category. Partial output looks like:\n",
    "<pre>\n",
    "('ACADEMY DINOSAUR', 'Documentary')\n",
    "('ACE GOLDFINGER', 'Horror')\n",
    "('ADAPTATION HOLES', 'Documentary')\n",
    "('AFFAIR PREJUDICE', 'Horror')\n",
    "('AFRICAN EGG', 'Family')\n",
    "('AGENT TRUMAN', 'Foreign')\n",
    "('AIRPLANE SIERRA', 'Comedy')\n",
    "('AIRPORT POLLOCK', 'Horror')\n",
    "('ALABAMA DEVIL', 'Horror')\n",
    "('ALADDIN CALENDAR', 'Sports')\n",
    "</pre>"
   ]
  },
  {
   "cell_type": "code",
   "execution_count": 4,
   "id": "1f310109",
   "metadata": {},
   "outputs": [
    {
     "name": "stdout",
     "output_type": "stream",
     "text": [
      "Example Result from running  select * from actor\n",
      "(1, 'PENELOPE', 'GUINESS', '2019-04-11 18:11:48')\n",
      "(2, 'NICK', 'WAHLBERG', '2019-04-11 18:11:48')\n",
      "(3, 'ED', 'CHASE', '2019-04-11 18:11:48')\n",
      "(4, 'JENNIFER', 'DAVIS', '2019-04-11 18:11:48')\n",
      "(5, 'JOHNNY', 'LOLLOBRIGIDA', '2019-04-11 18:11:48')\n",
      "(6, 'BETTE', 'NICHOLSON', '2019-04-11 18:11:48')\n",
      "(7, 'GRACE', 'MOSTEL', '2019-04-11 18:11:48')\n",
      "(8, 'MATTHEW', 'JOHANSSON', '2019-04-11 18:11:48')\n",
      "(9, 'JOE', 'SWANK', '2019-04-11 18:11:48')\n",
      "(10, 'CHRISTIAN', 'GABLE', '2019-04-11 18:11:48')\n"
     ]
    }
   ],
   "source": [
    "# Example code\n",
    "import sqlite3\n",
    "\n",
    "def run_sql(database_file, tag, sql_command) :\n",
    "  connection = sqlite3.connect(database_file)\n",
    "  cursor = connection.cursor()\n",
    "  cursor.execute(sql_command + \" limit 10\") \n",
    "  result = cursor.fetchall() \n",
    "  print(tag, \"Result from running \", sql_command)\n",
    "  for r in result:\n",
    "      print(r)\n",
    "\n",
    "d_file = \"sakila.db\"\n",
    "\n",
    "run_sql(d_file, \"Example\" , \"select * from actor\") \n"
   ]
  },
  {
   "cell_type": "code",
   "execution_count": 1,
   "id": "84d795af",
   "metadata": {},
   "outputs": [],
   "source": [
    "# Put your solution here\n",
    "\n",
    "\n"
   ]
  },
  {
   "cell_type": "markdown",
   "id": "4cc38e9a",
   "metadata": {},
   "source": [
    "## Question 2, SQL schema\n",
    "\n",
    "The cell below creates a SQL table defined by a schema. The aim of this question is to test the actual constraints from the SQL schema.\n",
    "\n",
    "* The **week** column is the primary key in the orders table. Does sqlite 3 allow nonunique values is the week column?\n",
    "* Can you add nonintegers to the **orders**  row ?\n",
    "* Can the FarmID column contain a **None** ?\n",
    "\n",
    "Once you have tried the above questions I suggest you read https://www.sqlite.org/datatype3.html"
   ]
  },
  {
   "cell_type": "code",
   "execution_count": 2,
   "id": "96b38765",
   "metadata": {},
   "outputs": [
    {
     "name": "stdout",
     "output_type": "stream",
     "text": [
      "(1, 20, 30, '5/11/2022')\n",
      "(2, None, 30, '5/11/2022')\n",
      "(3, 22, 30, '6/11/2022')\n",
      "(4, 22, 30, '8/11/2022')\n"
     ]
    }
   ],
   "source": [
    "import sqlite3\n",
    "connection = sqlite3.connect(\"supermarket.db\")\n",
    "cursor = connection.cursor()\n",
    "# first delete the table\n",
    "cursor.execute(\"DROP TABLE IF EXISTS orders\")\n",
    "connection.commit()\n",
    "\n",
    "# create the table\n",
    "sql_command = \"\"\"\n",
    "CREATE TABLE IF NOT EXISTS orders   ( \n",
    "week INTEGER PRIMARY KEY, \n",
    "orders INTEGER, \n",
    "FarmID INTEGER NOT NULL, \n",
    "date DATE);\"\"\"\n",
    "\n",
    "cursor.execute(sql_command)\n",
    "connection.commit()\n",
    "#\n",
    "#  now add some rows\n",
    "#\n",
    "sql = ''' INSERT INTO orders(week,orders, FarmID, date)\n",
    "              VALUES(?,?,?,?) '''\n",
    "\n",
    "cursor.execute(sql, (1,20,30,\"5/11/2022\") )\n",
    "cursor.execute(sql, (2,None,30,\"5/11/2022\") )\n",
    "cursor.execute(sql, (3,22,30,\"6/11/2022\") )\n",
    "cursor.execute(sql, (4,22,30,\"8/11/2022\") )\n",
    "\n",
    "#  write out the table\n",
    "cursor.execute(\"SELECT * FROM orders \") \n",
    "result = cursor.fetchall() \n",
    "for r in result:\n",
    "  print(r) \n",
    "connection.close()"
   ]
  },
  {
   "cell_type": "code",
   "execution_count": 3,
   "id": "3cd03fb8",
   "metadata": {},
   "outputs": [],
   "source": [
    "#  put your solution here\n"
   ]
  },
  {
   "cell_type": "markdown",
   "id": "7fcff5e4",
   "metadata": {},
   "source": [
    "Answers\n",
    "* The **week** column is the primary key in the orders table. Does sqlite 3 allow nonunique values is the week column? (YES or NO) \n",
    "* Can you add nonintegers to the **orders**  row ? (YES or NO) \n",
    "* Can the FarmID column contain a **None** ? (YES or NO) \n"
   ]
  },
  {
   "cell_type": "markdown",
   "id": "0040c05c",
   "metadata": {},
   "source": [
    "##  Question 3, Classes in python\n",
    "\n",
    "Consider a cube with side L.\n",
    "\n",
    "* Volume = $L^3$\n",
    "* Surface area = 6$L^2$\n",
    "\n",
    "\n",
    "Start from the code in the cell below and modify the\n",
    "Rectangle class to create a Cube class. (You do not need to include\n",
    "any units.) The Cube class should be able to calculate the volume\n",
    "and surface area.\n"
   ]
  },
  {
   "cell_type": "code",
   "execution_count": 4,
   "id": "6519e038",
   "metadata": {},
   "outputs": [
    {
     "name": "stdout",
     "output_type": "stream",
     "text": [
      "Area =  4500\n"
     ]
    }
   ],
   "source": [
    "class Rectangle:\n",
    "    def __init__(self, x, y):\n",
    "        self.x = x\n",
    "        self.y = y\n",
    "    def area(self):\n",
    "        return self.x * self.y\n",
    "\n",
    "rectangle = Rectangle(100, 45)\n",
    "print (\"Area = \" , rectangle.area())\n",
    "\n"
   ]
  },
  {
   "cell_type": "markdown",
   "id": "29bb32a9",
   "metadata": {},
   "source": [
    "The code calling the class shoud look like:\n",
    "<pre>\n",
    "small_cube = Cube(10)\n",
    "print (\"Volume = \" , small_cube.volume())\n",
    "print (\"Area = \" , small_cube.surface_area())\n",
    "</pre>\n",
    "Output\n",
    "<pre>\n",
    "Volume =  1000\n",
    "Area =  600\n",
    "</pre>"
   ]
  },
  {
   "cell_type": "code",
   "execution_count": 5,
   "id": "22d9d712",
   "metadata": {},
   "outputs": [],
   "source": [
    "# Put your solution here\n",
    "\n"
   ]
  },
  {
   "cell_type": "markdown",
   "id": "6f627503",
   "metadata": {},
   "source": [
    "##  Question 4: classes in python\n",
    "\n",
    "\n",
    "This question is an example of introducing classes\n",
    "to improve a python script. The code in the cell below reads in the\n",
    "data file data-showing-sports-use-of-football-pitches.csv\n",
    "and counts the number of male football teams in\n",
    "Plymouth. The data set is from\n",
    "https://plymouth.thedata.place/dataset/football-pitches"
   ]
  },
  {
   "cell_type": "code",
   "execution_count": 33,
   "id": "3d583d67",
   "metadata": {},
   "outputs": [
    {
     "name": "stdout",
     "output_type": "stream",
     "text": [
      "Loaded data from   data-showing-sports-use-of-football-pitches.csv\n",
      "Number of male football teams in Plymouth 138\n"
     ]
    }
   ],
   "source": [
    "import pandas as pd\n",
    "\n",
    "# The file below is available on the DLE\n",
    "fname = \"data-showing-sports-use-of-football-pitches.csv\"\n",
    "football_df = pd.read_csv(fname)\n",
    "\n",
    "print(\"Loaded data from  \" , fname)\n",
    "\n",
    "\n",
    "male_team_ = football_df['Adult male 11v11 (16-45)']\n",
    "\n",
    "\n",
    "# drop all rows with any NaN and NaT values\n",
    "male_team = male_team_.dropna()\n",
    "\n",
    "xx = len(male_team)\n",
    "\n",
    "print(\"Number of male football teams in Plymouth\" , xx)"
   ]
  },
  {
   "cell_type": "markdown",
   "id": "c9fba5dc",
   "metadata": {},
   "source": [
    "The code uses the pandas library https://pandas.pydata.org/pandas-docs/stable/user_guide/10min.html\n",
    "to read the csv file and to do the\n",
    "processing. However, you do not need to change any of the  \n",
    "pandas code to\n",
    "solve\n",
    "this exercise. You just need to rearrange the source code.\n",
    "\n",
    "To clean the script up, please put the code into a\n",
    "class called football.\n",
    "\n",
    "<pre>\n",
    "football_plymouth = football()\n",
    "football_plymouth.load(\"data-showing-sports-use-of-football-pitches.csv\")\n",
    "number_football_men  = football_plymouth.count_male_team()\n",
    "\n",
    "print(\"Number of male football teams in Plymouth\" ,number_football_men)\n",
    "</pre>\n"
   ]
  },
  {
   "cell_type": "code",
   "execution_count": 6,
   "id": "a88af167",
   "metadata": {},
   "outputs": [],
   "source": [
    "# Put your solution here\n",
    "\n"
   ]
  },
  {
   "cell_type": "code",
   "execution_count": null,
   "id": "52115e4d",
   "metadata": {},
   "outputs": [],
   "source": []
  }
 ],
 "metadata": {
  "kernelspec": {
   "display_name": "Python 3 (ipykernel)",
   "language": "python",
   "name": "python3"
  },
  "language_info": {
   "codemirror_mode": {
    "name": "ipython",
    "version": 3
   },
   "file_extension": ".py",
   "mimetype": "text/x-python",
   "name": "python",
   "nbconvert_exporter": "python",
   "pygments_lexer": "ipython3",
   "version": "3.12.2"
  }
 },
 "nbformat": 4,
 "nbformat_minor": 5
}
