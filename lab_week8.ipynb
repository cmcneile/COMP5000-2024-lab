{
 "cells": [
  {
   "cell_type": "markdown",
   "id": "61859abf",
   "metadata": {},
   "source": [
    "# Computer Lab Exercises week 8"
   ]
  },
  {
   "cell_type": "markdown",
   "id": "631f8302",
   "metadata": {},
   "source": [
    "* These lab exercises are designed to further develop you skills with working with pandas dataframes\n",
    "* These exercises are **not** part of the assessment of the Module.\n",
    "\n",
    "* I will post the solutions roughly 1 week after this file has been uploaded to the DLE.\n",
    "* Please first watch and work through the linkedin learning video   **Pandas Essential Training**\n",
    "* See https://sites.google.com/view/pythonforstemstudents/home for a collection\n",
    "of links to information on python.\n",
    "\n",
    "see this link about pandas https://www.w3schools.com/python/pandas/\n"
   ]
  },
  {
   "cell_type": "markdown",
   "id": "c740384c",
   "metadata": {},
   "source": [
    "## Question 1\n",
    "The dataframe below comes from a simulated medical study of some students at University. Use\n",
    "pandas to do the following tasks.\n",
    "\n",
    "*  Delete the **Student_ID**  column\n",
    "*  Change the age of Sahil from 41 to 21\n",
    "*  Compute the mean weight. \n",
    "*  Replace the unknown weights wih the mean weight.\n",
    "\n",
    "The dataframe is in the cell below"
   ]
  },
  {
   "cell_type": "code",
   "execution_count": null,
   "id": "ba8e814f",
   "metadata": {},
   "outputs": [],
   "source": []
  },
  {
   "cell_type": "code",
   "execution_count": 1,
   "id": "22fe2cee",
   "metadata": {},
   "outputs": [
    {
     "name": "stdout",
     "output_type": "stream",
     "text": [
      "    Name  Age  Weight_kg  Student_ID\n",
      "0  Karan   23       80.0        2034\n",
      "1  Rohit   22        NaN         678\n",
      "2  Sahil   41       95.0         673\n",
      "3  Aryan   22        NaN        1786\n"
     ]
    }
   ],
   "source": [
    "import pandas as pd\n",
    "import numpy as np\n",
    "\n",
    "data=[[\"Karan\",23,80,2034],[\"Rohit\",22,np.nan,678],[\"Sahil\",41,95,673],[\"Aryan\",22,np.nan, 1786]]\n",
    "df=pd.DataFrame(data,columns=[\"Name\",\"Age\", \"Weight_kg\", \"Student_ID\"])\n",
    "\n",
    "print(df)"
   ]
  },
  {
   "cell_type": "markdown",
   "id": "33597e49",
   "metadata": {},
   "source": [
    "The output should like:\n",
    "<pre>\n",
    "   Name  Age  Weight_kg  Student_ID\n",
    "0  Karan   23       80.0        2034\n",
    "1  Rohit   22        NaN         678\n",
    "2  Sahil   41       95.0         673\n",
    "3  Aryan   22        NaN        1786\n",
    "Delete Student_ID row\n",
    "    Name  Age  Weight_kg\n",
    "0  Karan   23       80.0\n",
    "1  Rohit   22        NaN\n",
    "2  Sahil   41       95.0\n",
    "3  Aryan   22        NaN\n",
    "Update age of Sahil \n",
    "    Name  Age  Weight_kg\n",
    "0  Karan   23       80.0\n",
    "1  Rohit   22        NaN\n",
    "2  Sahil   21       95.0\n",
    "3  Aryan   22        NaN\n",
    "Mean weight =  87.5 kg\n",
    "    Name  Age  Weight_kg\n",
    "0  Karan   23       80.0\n",
    "1  Rohit   22       87.5\n",
    "2  Sahil   21       95.0\n",
    "3  Aryan   22       87.5\n",
    "\n",
    "</pre>"
   ]
  },
  {
   "cell_type": "code",
   "execution_count": 2,
   "id": "ab0eecdf",
   "metadata": {},
   "outputs": [],
   "source": [
    "##  put your solution here\n",
    "\n",
    "\n"
   ]
  },
  {
   "cell_type": "markdown",
   "id": "ce8f6ff0",
   "metadata": {},
   "source": [
    "##  Question 2\n"
   ]
  },
  {
   "cell_type": "markdown",
   "id": "1e7d9a3c",
   "metadata": {},
   "source": [
    "The Devon and Cornwall police provide data about stop\n",
    "and search between 2018 and 2019 at:\n",
    "https://plymouth.thedata.place/dataset/plymouth-stop-search-data\n",
    "\n",
    "* Use pandas to delete the following columns: 'Placestoppedstreet' , 'Monthyear' , 'GRIDREFERENCE', 'GRIDREF1' and 'GRIDREF1'.\n",
    "\n",
    "* Use pandas to compute the maximum and minimum 'EstimatedAge'.\n",
    "\n",
    "* Delete any rows with ages which do not look correct.\n",
    "\n",
    "* Sometimes PLYMOUTH, Plmyouth, and Plymouth is used in the data set. Use the **replace** method to  change PLYMOUTH, Plmyouth, to Plymouth.\n",
    "\n",
    "* Compute the mean age for each area.\n",
    "\n",
    "\n",
    "The final output should look like:\n",
    "<pre>\n",
    "                  EstimatedAge\n",
    "Placestoppedtown              \n",
    "Devenport            41.000000\n",
    "Honiton              35.000000\n",
    "Newton Abbot         34.000000\n",
    "Plymouth             31.905882\n",
    "Plympton             55.000000\n",
    "St. Ives             18.000000\n",
    "Tavistock            34.000000\n",
    "Truro                41.000000\n",
    "</pre>\n"
   ]
  },
  {
   "cell_type": "code",
   "execution_count": 3,
   "id": "f446af71",
   "metadata": {},
   "outputs": [
    {
     "name": "stdout",
     "output_type": "stream",
     "text": [
      "  Placestoppedstreet Placestoppedtown  EstimatedAge Monthyear   GRIDREFERENCE  \\\n",
      "0                NaN              NaN            17    Apr-19  244974; 060033   \n",
      "1                NaN              NaN            16    May-19  248200; 060630   \n",
      "2                NaN              NaN            14    Sep-19  246933; 056200   \n",
      "3                NaN              NaN            35    Aug-19  248182; 054717   \n",
      "4                NaN              NaN            25    May-19  246332; 059320   \n",
      "\n",
      "   GRIDREF1  GRIDREF2  \n",
      "0  244974.0   60033.0  \n",
      "1  248200.0   60630.0  \n",
      "2  246933.0   56200.0  \n",
      "3  248182.0   54717.0  \n",
      "4  246332.0   59320.0  \n",
      "Index(['Placestoppedstreet', 'Placestoppedtown', 'EstimatedAge', 'Monthyear',\n",
      "       'GRIDREFERENCE', 'GRIDREF1', 'GRIDREF2'],\n",
      "      dtype='object')\n"
     ]
    }
   ],
   "source": [
    "import pandas as pd\n",
    "\n",
    "# The file is available on the DLE\n",
    "df = pd.read_csv(\"resources_57e2507e-7342-4cb1-b284-014caaa463a2_extract-for-dataplay-dataplay-master-csv.csv\")\n",
    "print(df.head())\n",
    "\n",
    "print(df.columns)"
   ]
  },
  {
   "cell_type": "code",
   "execution_count": 4,
   "id": "50d35fbe",
   "metadata": {},
   "outputs": [],
   "source": [
    "## Put your solution here\n",
    "\n"
   ]
  },
  {
   "cell_type": "markdown",
   "id": "9b617549",
   "metadata": {},
   "source": [
    "##  Question 3: python programming\n",
    "\n",
    "\n",
    "This is an example of python programming. The file \n",
    "life-expectancy-females-2010-2014.csv contains some\n",
    "information about life expectancy of women in Plymouth in\n",
    "different areas of Plymouth.\n",
    "The data came from https://plymouth.thedata.place/dataset/life-expectancy-data-plymouth."
   ]
  },
  {
   "cell_type": "markdown",
   "id": "5c9c61d1",
   "metadata": {},
   "source": [
    "Many machine learning algorithms require that the input data \n",
    "(in this case life time data) is\n",
    "scaled to be range 0 to 1,  or the range -1 to 1.\n",
    "\n",
    "If the input data is $x_i$ then the **normalization scaling** is\n",
    "$$\n",
    "\\overline{x}_i = \\frac{x_i - min} {max - min}\n",
    "$$\n",
    "where $min$ is the minimum value and $max$ is the\n",
    "maximum value.\n",
    "\n",
    "Another type of scaling is **standardization.**\n",
    "$$\n",
    "\\overline{y}_i = \\frac{x_i - \\mu} {\\sigma}\n",
    "$$\n",
    "where\n",
    "$\\mu$ is the mean of the data and\n",
    "$\\sigma$ is the standard deviation of the data.\n",
    "\n",
    "* Compute the normalization scaling for the life expectancy data.\n",
    "* Compute the standardization scaling for the life expectancy data."
   ]
  },
  {
   "cell_type": "code",
   "execution_count": 5,
   "id": "a7aaabb8",
   "metadata": {},
   "outputs": [
    {
     "name": "stdout",
     "output_type": "stream",
     "text": [
      "   Ward Code Plymouth Wards (2015)  \\\n",
      "0  E05002096              Budshead   \n",
      "1  E05002094               Compton   \n",
      "2  E05002080             Devonport   \n",
      "3  E05002081                 Drake   \n",
      "4  E05002085     Efford and Lipson   \n",
      "\n",
      "   Life expectancy at birth for females, 2010-2014 (years)  \\\n",
      "0                                               78.8         \n",
      "1                                               79.0         \n",
      "2                                               79.3         \n",
      "3                                               79.4         \n",
      "4                                               81.0         \n",
      "\n",
      "   LCL - Lower confidence limit  UCL - Upper confidence limit  \n",
      "0                          77.5                          80.1  \n",
      "1                          77.3                          80.7  \n",
      "2                          77.9                          80.6  \n",
      "3                          76.7                          82.1  \n",
      "4                          79.7                          82.3  \n",
      "Index(['Ward Code', 'Plymouth Wards (2015)',\n",
      "       'Life expectancy at birth for females, 2010-2014 (years)',\n",
      "       'LCL - Lower confidence limit', 'UCL - Upper confidence limit'],\n",
      "      dtype='object')\n",
      "78.8\n",
      "79.0\n",
      "79.3\n",
      "79.4\n",
      "81.0\n",
      "81.5\n",
      "81.6\n",
      "81.7\n",
      "82.0\n",
      "82.2\n",
      "82.6\n",
      "83.1\n",
      "83.2\n",
      "83.5\n",
      "83.6\n",
      "84.2\n",
      "84.3\n",
      "85.0\n",
      "85.4\n",
      "87.1\n"
     ]
    }
   ],
   "source": [
    "import pandas as pd\n",
    "import numpy as np\n",
    "\n",
    "# the file is avilable on the DLE\n",
    "df = pd.read_csv(\"life-expectancy-females-2010-2014.csv\")\n",
    "print(df.head())\n",
    "print(df.columns)\n",
    "\n",
    "life = df['Life expectancy at birth for females, 2010-2014 (years)'].tolist()\n",
    "for x in life:\n",
    "   print(x)\n"
   ]
  },
  {
   "cell_type": "code",
   "execution_count": 6,
   "id": "0566d2d1",
   "metadata": {},
   "outputs": [],
   "source": [
    "# Put your solution here \n",
    "\n"
   ]
  },
  {
   "cell_type": "markdown",
   "id": "b3c5424b",
   "metadata": {},
   "source": [
    "You can read more about scaling of input data in chapter 5 of the \n",
    "100 page machine learning book \n",
    "(http://themlbook.com/)\n",
    "You can download chapters in pdf from this site."
   ]
  },
  {
   "cell_type": "markdown",
   "id": "56d3522f",
   "metadata": {},
   "source": [
    "Use pandas to plot a histogram of the 'Life expectancy at birth for females, 2010-2014 (years)'\n",
    "\n",
    "\n",
    " <img src=\"https://github.com/cmcneile/COMP5000-2023-lab/blob/main/lifehist.png?raw=true\">"
   ]
  },
  {
   "cell_type": "code",
   "execution_count": 7,
   "id": "b77f60c5",
   "metadata": {},
   "outputs": [],
   "source": [
    "# Put your solution here"
   ]
  },
  {
   "cell_type": "markdown",
   "id": "ddbc0d47",
   "metadata": {},
   "source": [
    "##  Question 4 : using pandas\n",
    "\n",
    "There is data about air quality around hospitals and\n",
    "surgeries available at:\n",
    "https://plymouth.thedata.place/dataset/air-quality-data.\n",
    "The key column is \"PM2\\_5\" which is the density of\n",
    "small particles, which can enter the blood stream via \n",
    "the lungs. The World Health organization warns that\n",
    "levels of ``PM2\\_5'' above 10 can cause health problems\n",
    "(see https://www.blf.org.uk/take-action/campaign/nhs-toxic-air-report.)\n",
    "\n",
    "\n"
   ]
  },
  {
   "cell_type": "code",
   "execution_count": 8,
   "id": "1733956b",
   "metadata": {},
   "outputs": [
    {
     "name": "stdout",
     "output_type": "stream",
     "text": [
      "                       Name  \\\n",
      "0          West Hoe Surgery   \n",
      "1   Adelaide Street Surgery   \n",
      "2   Devonport Health Centre   \n",
      "3            Armada Surgery   \n",
      "4  North Road West Med.ctr.   \n",
      "\n",
      "                                             Address Post Code  \\\n",
      "0    West Hoe Surgery, 2 Cliff Road, Plymouth, Devon   PL1 3BP   \n",
      "1    20 Adelaide Street, Stonehouse, Plymouth, Devon   PL1 3JF   \n",
      "2          Damerel Close, Devonport, Plymouth, Devon   PL1 4JZ   \n",
      "3  Armada Surg, 28 Oxford Pl, Western Approach, P...   PL1 5AJ   \n",
      "4  North Road West Med.ctr., 167 North Road West,...   PL1 5BZ   \n",
      "\n",
      "                          Town         Type  PM2_5  Exceed_10   Latitude  \\\n",
      "0  St Peter and the Waterfront  GP Practice   8.87      False  50.364834   \n",
      "1  St Peter and the Waterfront  GP Practice  10.32       True  50.370562   \n",
      "2                    Devonport  GP Practice  10.71       True  50.370004   \n",
      "3  St Peter and the Waterfront  GP Practice  10.80       True  50.374693   \n",
      "4  St Peter and the Waterfront  GP Practice  11.45       True  50.376062   \n",
      "\n",
      "   Longitude  \n",
      "0  -4.150356  \n",
      "1  -4.155762  \n",
      "2  -4.167845  \n",
      "3  -4.144895  \n",
      "4  -4.146265  \n",
      "Index(['Name', 'Address', 'Post Code', 'Town', 'Type', 'PM2_5', 'Exceed_10',\n",
      "       'Latitude', 'Longitude'],\n",
      "      dtype='object')\n"
     ]
    }
   ],
   "source": [
    "import pandas as pd\n",
    "\n",
    "df = pd.read_csv(\"resources_cd162ad1-d7d5-42a9-b1ab-0edbcd697f1e_air-quality-by-pm2.5-score-blf.org.uk.csv\")\n",
    "print(df.head())\n",
    "\n",
    "print(df.columns)"
   ]
  },
  {
   "cell_type": "markdown",
   "id": "16de0fb5",
   "metadata": {},
   "source": [
    "Use pandas to answer the following questions:\n",
    "\n",
    "* **(a)** What is the mean value of \"PM2\\_5\" for all the data in the file?\n",
    "\n",
    "* **(b)** Use the groupby pandas method to find the total number of   \"GP Practice\" and \"Hospital\".\n",
    "\n",
    "* **(c)** Print the \"Latitude\" and \"Longitude\" of the locations with \"PM2\\_5\" greater than 10.\n",
    "\n",
    "<pre>\n",
    "Answer Q4a\n",
    "Mean PM2_5  =  9.227671232876713\n",
    "Answer Q4b\n",
    "Type\n",
    "GP Practice    61\n",
    "Hospital       12\n",
    "Name: Name, dtype: int64\n",
    "--------------------------------------------------\n",
    "Answer Q4c\n",
    "     Latitude  Longitude\n",
    "1   50.370562  -4.155762\n",
    "2   50.370004  -4.167845\n",
    "3   50.374693  -4.144895\n",
    "4   50.376062  -4.146265\n",
    "20  50.383921  -4.177328\n",
    "21  50.387979  -4.160899\n",
    "22  50.393672  -4.147820\n",
    "31  50.344309  -4.760374\n",
    "38  50.379001  -4.166779\n",
    "39  50.389271  -4.129838\n",
    "46  50.368649  -4.122853\n",
    "47  50.382894  -4.139146\n",
    "48  50.382512  -4.131575\n",
    "49  50.378837  -4.116613\n",
    "50  50.372660  -4.128292\n",
    "51  50.373198  -4.127909\n",
    "52  50.404946  -4.188552\n",
    "54  50.410582  -4.139943\n",
    "55  50.408630  -4.134098\n",
    "56  50.411256  -4.159425\n",
    "57  50.417443  -4.150289\n",
    "\n",
    "</pre>\n"
   ]
  },
  {
   "cell_type": "code",
   "execution_count": 9,
   "id": "db353f87",
   "metadata": {},
   "outputs": [],
   "source": [
    "##  Put your solution  here\n",
    "\n"
   ]
  },
  {
   "cell_type": "markdown",
   "id": "2657bf2c",
   "metadata": {},
   "source": [
    "## Question 5 \n",
    "\n",
    "The code below creates an interactive plot using plotly https://dash.plotly.com/minimal-app\n",
    "The application loads in a spreadsheet https://raw.githubusercontent.com/plotly/datasets/master/gapminder_unfiltered.csv\n",
    "\n",
    "To run the application you need to install dash. Type the command below in a cell\n",
    "\n",
    "pip install dash\n",
    "\n"
   ]
  },
  {
   "cell_type": "code",
   "execution_count": 1,
   "id": "76fc5ccb",
   "metadata": {},
   "outputs": [
    {
     "data": {
      "text/html": [
       "\n",
       "        <iframe\n",
       "            width=\"100%\"\n",
       "            height=\"650\"\n",
       "            src=\"http://127.0.0.1:8050/\"\n",
       "            frameborder=\"0\"\n",
       "            allowfullscreen\n",
       "            \n",
       "        ></iframe>\n",
       "        "
      ],
      "text/plain": [
       "<IPython.lib.display.IFrame at 0x70d84b52f950>"
      ]
     },
     "metadata": {},
     "output_type": "display_data"
    }
   ],
   "source": [
    "from dash import Dash, html, dcc, callback, Output, Input\n",
    "import plotly.express as px\n",
    "import pandas as pd\n",
    "\n",
    "df = pd.read_csv('https://raw.githubusercontent.com/plotly/datasets/master/gapminder_unfiltered.csv')\n",
    "\n",
    "app = Dash()\n",
    "\n",
    "app.layout = [\n",
    "    html.H1(children='Title of Dash App', style={'textAlign':'center'}),\n",
    "    dcc.Dropdown(df.country.unique(), 'Canada', id='dropdown-selection'),\n",
    "    dcc.Graph(id='graph-content')\n",
    "]\n",
    "\n",
    "@callback(\n",
    "    Output('graph-content', 'figure'),\n",
    "    Input('dropdown-selection', 'value')\n",
    ")\n",
    "def update_graph(value):\n",
    "    dff = df[df.country==value]\n",
    "    return px.line(dff, x='year', y='pop')\n",
    "\n",
    "if __name__ == '__main__':\n",
    "    app.run(debug=True)\n"
   ]
  },
  {
   "cell_type": "markdown",
   "id": "2186c1d5",
   "metadata": {},
   "source": [
    "The question is to modify the above example to load in the spreadsheet  \n",
    "https://calmcode.io/static/data/bigmac.csv\n",
    "This has data for the price of bigmac as a function of date for different counteries.\n",
    "\n",
    "Use dash to plot \n",
    "\n",
    "dollar_price versus date\n",
    "\n",
    "with name in the drop down box.\n",
    "\n",
    "The solution should look like\n",
    "\n",
    "![dashEG](https://github.com/cmcneile/COMP5000-2024-lab/blob/main/dash.png?raw=true)\n",
    "\n"
   ]
  },
  {
   "cell_type": "code",
   "execution_count": null,
   "id": "e6556b31",
   "metadata": {},
   "outputs": [],
   "source": []
  }
 ],
 "metadata": {
  "kernelspec": {
   "display_name": "Python 3 (ipykernel)",
   "language": "python",
   "name": "python3"
  },
  "language_info": {
   "codemirror_mode": {
    "name": "ipython",
    "version": 3
   },
   "file_extension": ".py",
   "mimetype": "text/x-python",
   "name": "python",
   "nbconvert_exporter": "python",
   "pygments_lexer": "ipython3",
   "version": "3.12.2"
  }
 },
 "nbformat": 4,
 "nbformat_minor": 5
}
